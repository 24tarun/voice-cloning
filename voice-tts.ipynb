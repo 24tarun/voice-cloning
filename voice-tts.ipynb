{
  "cells": [
    {
      "cell_type": "code",
      "execution_count": null,
      "metadata": {
        "id": "JrK20I32grP6"
      },
      "outputs": [],
      "source": [
        "# the scipy version packaged with colab is not tolerant of misformated WAV files.\n",
        "# install the latest version.\n",
        "!pip3 install -U scipy\n",
        "\n",
        "!git clone https://github.com/jnordberg/tortoise-tts.git\n",
        "%cd tortoise-tts\n",
        "!pip3 install -r requirements.txt\n",
        "!pip3 install transformers==4.19.0 einops==0.5.0 rotary_embedding_torch==0.1.5 unidecode==1.3.5\n",
        "!python3 setup.py install"
      ]
    },
    {
      "cell_type": "code",
      "execution_count": null,
      "metadata": {
        "id": "Gen09NM4hONQ"
      },
      "outputs": [],
      "source": [
        "# Imports used through the rest of the notebook.\n",
        "import torch\n",
        "import torchaudio\n",
        "import torch.nn as nn\n",
        "import torch.nn.functional as F\n",
        "\n",
        "import IPython\n",
        "\n",
        "from tortoise.api import TextToSpeech\n",
        "from tortoise.utils.audio import load_audio, load_voice, load_voices\n",
        "\n",
        "# This will download all the models used by Tortoise from the HuggingFace hub.\n",
        "tts = TextToSpeech()"
      ]
    },
    {
      "cell_type": "code",
      "execution_count": null,
      "metadata": {
        "id": "bt_aoxONjfL2"
      },
      "outputs": [],
      "source": [
        "# This is the text that will be spoken.\n",
        "text = \"I am really sorry, That i took this long to complete the assignment but i was on vacation gimme job!.\"\n",
        "\n",
        "# Pick a \"preset mode\" to determine quality. Options: {\"ultra_fast\", \"fast\" (default), \"standard\", \"high_quality\"}. See docs in api.py\n",
        "preset = \"fast\""
      ]
    },
    {
      "cell_type": "code",
      "source": [
        "\n",
        "CUSTOM_VOICE_NAME = \"emma\"\n",
        "\n",
        "#if you want to use own voice samples,\n",
        "# 1.uncomment the below lines\n",
        "# 2. give your own CUSTOM_VOICE_NAME above\n",
        "# 3. choose the files\n",
        "# 4. the files must be in 32bit encoding and @ 22050hz with each audio sample ranging from 6-10 seconds\n",
        "\n",
        "\n",
        "\"\"\"import os\n",
        "from google.colab import files\n",
        "\n",
        "custom_voice_folder = f\"tortoise/voices/{CUSTOM_VOICE_NAME}\"\n",
        "os.makedirs(custom_voice_folder)\n",
        "for i, file_data in enumerate(files.upload().values()):\n",
        "  with open(os.path.join(custom_voice_folder, f'{i}.wav'), 'wb') as f:\n",
        "    f.write(file_data)\"\"\""
      ],
      "metadata": {
        "id": "VQgw3KeV8Yqb"
      },
      "execution_count": null,
      "outputs": []
    },
    {
      "cell_type": "code",
      "source": [
        "# Generate speech with the custotm voice.\n",
        "voice_samples, conditioning_latents = load_voice(CUSTOM_VOICE_NAME)\n",
        "gen = tts.tts_with_preset(text, voice_samples=voice_samples, conditioning_latents=conditioning_latents,\n",
        "                          preset=preset)\n",
        "torchaudio.save(f'generated-{CUSTOM_VOICE_NAME}.wav', gen.squeeze(0).cpu(), 24000)\n",
        "IPython.display.Audio(f'generated-{CUSTOM_VOICE_NAME}.wav')"
      ],
      "metadata": {
        "id": "jJnJwv3R9uWT"
      },
      "execution_count": null,
      "outputs": []
    }
  ],
  "metadata": {
    "accelerator": "GPU",
    "colab": {
      "provenance": []
    },
    "kernelspec": {
      "display_name": "Python 3",
      "name": "python3"
    },
    "language_info": {
      "name": "python"
    }
  },
  "nbformat": 4,
  "nbformat_minor": 0
}